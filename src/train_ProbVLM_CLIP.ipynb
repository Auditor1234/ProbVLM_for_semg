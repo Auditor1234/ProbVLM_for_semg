{
 "cells": [
  {
   "cell_type": "code",
   "execution_count": 3,
   "id": "2986807e-7850-404f-a957-eaeb16371d24",
   "metadata": {},
   "outputs": [
    {
     "name": "stderr",
     "output_type": "stream",
     "text": [
      "d:\\ProgramFiles\\python\\multi_modal\\ProbVLM_for_semg\\src\\train_probVLM.py:26: UserWarning: The torch.cuda.*DtypeTensor constructors are no longer recommended. It's best to use methods such as torch.tensor(data, dtype=*, device='cuda') to create tensors. (Triggered internally at C:\\actions-runner\\_work\\pytorch\\pytorch\\builder\\windows\\pytorch\\torch\\csrc\\tensor\\python_tensor.cpp:85.)\n",
      "  dtype=torch.cuda.FloatTensor(),\n"
     ]
    }
   ],
   "source": [
    "import os\n",
    "\n",
    "from os.path import join as ospj\n",
    "from os.path import expanduser\n",
    "from munch import Munch as mch\n",
    "import numpy as np\n",
    "\n",
    "from ds import prepare_coco_dataloaders, prepare_flickr_dataloaders, prepare_cub_dataloaders, prepare_flo_dataloaders\n",
    "\n",
    "from utils import *\n",
    "from networks import *\n",
    "from train_probVLM import *\n",
    "\n",
    "import matplotlib.pyplot as plt"
   ]
  },
  {
   "cell_type": "code",
   "execution_count": 4,
   "id": "fbdb7f39-293e-48fe-bd3b-da616157f4a9",
   "metadata": {},
   "outputs": [
    {
     "ename": "FileNotFoundError",
     "evalue": "[Errno 2] No such file or directory: 'ds/vocabs/cub_vocab.pkl'",
     "output_type": "error",
     "traceback": [
      "\u001b[1;31m---------------------------------------------------------------------------\u001b[0m",
      "\u001b[1;31mFileNotFoundError\u001b[0m                         Traceback (most recent call last)",
      "\u001b[1;32md:\\ProgramFiles\\python\\multi_modal\\ProbVLM_for_semg\\src\\train_ProbVLM_CLIP.ipynb Cell 2\u001b[0m line \u001b[0;36m8\n\u001b[0;32m      <a href='vscode-notebook-cell:/d%3A/ProgramFiles/python/multi_modal/ProbVLM_for_semg/src/train_ProbVLM_CLIP.ipynb#W1sZmlsZQ%3D%3D?line=1'>2</a>\u001b[0m data_dir \u001b[39m=\u001b[39m ospj(\u001b[39m'\u001b[39m\u001b[39m/mnt/Datasets/\u001b[39m\u001b[39m'\u001b[39m, dataset) \u001b[39m# e.g. ospj(expanduser('~'), 'Documents', 'jm', 'data', dataset)\u001b[39;00m\n\u001b[0;32m      <a href='vscode-notebook-cell:/d%3A/ProgramFiles/python/multi_modal/ProbVLM_for_semg/src/train_ProbVLM_CLIP.ipynb#W1sZmlsZQ%3D%3D?line=2'>3</a>\u001b[0m dataloader_config \u001b[39m=\u001b[39m mch({\n\u001b[0;32m      <a href='vscode-notebook-cell:/d%3A/ProgramFiles/python/multi_modal/ProbVLM_for_semg/src/train_ProbVLM_CLIP.ipynb#W1sZmlsZQ%3D%3D?line=3'>4</a>\u001b[0m     \u001b[39m'\u001b[39m\u001b[39mbatch_size\u001b[39m\u001b[39m'\u001b[39m: \u001b[39m64\u001b[39m,\n\u001b[0;32m      <a href='vscode-notebook-cell:/d%3A/ProgramFiles/python/multi_modal/ProbVLM_for_semg/src/train_ProbVLM_CLIP.ipynb#W1sZmlsZQ%3D%3D?line=4'>5</a>\u001b[0m     \u001b[39m'\u001b[39m\u001b[39mrandom_erasing_prob\u001b[39m\u001b[39m'\u001b[39m: \u001b[39m0.\u001b[39m,\n\u001b[0;32m      <a href='vscode-notebook-cell:/d%3A/ProgramFiles/python/multi_modal/ProbVLM_for_semg/src/train_ProbVLM_CLIP.ipynb#W1sZmlsZQ%3D%3D?line=5'>6</a>\u001b[0m     \u001b[39m'\u001b[39m\u001b[39mtraindata_shuffle\u001b[39m\u001b[39m'\u001b[39m: \u001b[39mTrue\u001b[39;00m\n\u001b[0;32m      <a href='vscode-notebook-cell:/d%3A/ProgramFiles/python/multi_modal/ProbVLM_for_semg/src/train_ProbVLM_CLIP.ipynb#W1sZmlsZQ%3D%3D?line=6'>7</a>\u001b[0m })\n\u001b[1;32m----> <a href='vscode-notebook-cell:/d%3A/ProgramFiles/python/multi_modal/ProbVLM_for_semg/src/train_ProbVLM_CLIP.ipynb#W1sZmlsZQ%3D%3D?line=7'>8</a>\u001b[0m loaders,vocab \u001b[39m=\u001b[39m load_data_loader(dataset, data_dir, dataloader_config)\n\u001b[0;32m      <a href='vscode-notebook-cell:/d%3A/ProgramFiles/python/multi_modal/ProbVLM_for_semg/src/train_ProbVLM_CLIP.ipynb#W1sZmlsZQ%3D%3D?line=8'>9</a>\u001b[0m cub_train_loader, cub_valid_loader, cub_test_loader \u001b[39m=\u001b[39m loaders[\u001b[39m'\u001b[39m\u001b[39mtrain\u001b[39m\u001b[39m'\u001b[39m], loaders[\u001b[39m'\u001b[39m\u001b[39mval\u001b[39m\u001b[39m'\u001b[39m], loaders[\u001b[39m'\u001b[39m\u001b[39mtest\u001b[39m\u001b[39m'\u001b[39m]\n",
      "File \u001b[1;32md:\\ProgramFiles\\python\\multi_modal\\ProbVLM_for_semg\\src\\utils.py:116\u001b[0m, in \u001b[0;36mload_data_loader\u001b[1;34m(dataset, data_dir, dataloader_config)\u001b[0m\n\u001b[0;32m    109\u001b[0m prepare_loaders \u001b[39m=\u001b[39m {\n\u001b[0;32m    110\u001b[0m     \u001b[39m'\u001b[39m\u001b[39mcoco\u001b[39m\u001b[39m'\u001b[39m: prepare_coco_dataloaders,\n\u001b[0;32m    111\u001b[0m     \u001b[39m'\u001b[39m\u001b[39mflickr\u001b[39m\u001b[39m'\u001b[39m: prepare_flickr_dataloaders,\n\u001b[0;32m    112\u001b[0m     \u001b[39m'\u001b[39m\u001b[39mCUB\u001b[39m\u001b[39m'\u001b[39m:prepare_cub_dataloaders,\n\u001b[0;32m    113\u001b[0m     \u001b[39m'\u001b[39m\u001b[39mFLO\u001b[39m\u001b[39m'\u001b[39m:prepare_flo_dataloaders\n\u001b[0;32m    114\u001b[0m }[dataset]\n\u001b[0;32m    115\u001b[0m \u001b[39mif\u001b[39;00m dataset \u001b[39m==\u001b[39m \u001b[39m'\u001b[39m\u001b[39mCUB\u001b[39m\u001b[39m'\u001b[39m:\n\u001b[1;32m--> 116\u001b[0m     loaders \u001b[39m=\u001b[39m prepare_loaders(\n\u001b[0;32m    117\u001b[0m         dataloader_config,\n\u001b[0;32m    118\u001b[0m         dataset_root\u001b[39m=\u001b[39;49mdata_dir,\n\u001b[0;32m    119\u001b[0m         caption_root\u001b[39m=\u001b[39;49mdata_dir\u001b[39m+\u001b[39;49m\u001b[39m'\u001b[39;49m\u001b[39m/text_c10\u001b[39;49m\u001b[39m'\u001b[39;49m,\n\u001b[0;32m    120\u001b[0m         vocab_path\u001b[39m=\u001b[39;49m\u001b[39m'\u001b[39;49m\u001b[39mds/vocabs/cub_vocab.pkl\u001b[39;49m\u001b[39m'\u001b[39;49m)\n\u001b[0;32m    121\u001b[0m \u001b[39melif\u001b[39;00m dataset \u001b[39m==\u001b[39m \u001b[39m'\u001b[39m\u001b[39mFLO\u001b[39m\u001b[39m'\u001b[39m:\n\u001b[0;32m    122\u001b[0m     loaders \u001b[39m=\u001b[39m prepare_loaders(\n\u001b[0;32m    123\u001b[0m         dataloader_config,\n\u001b[0;32m    124\u001b[0m         dataset_root\u001b[39m=\u001b[39mdata_dir,\n\u001b[0;32m    125\u001b[0m         caption_root\u001b[39m=\u001b[39mdata_dir\u001b[39m+\u001b[39m\u001b[39m'\u001b[39m\u001b[39m/text_c10\u001b[39m\u001b[39m'\u001b[39m,)\n",
      "File \u001b[1;32md:\\ProgramFiles\\python\\multi_modal\\ProbVLM_for_semg\\src\\ds\\_dataloader.py:293\u001b[0m, in \u001b[0;36mprepare_cub_dataloaders\u001b[1;34m(dataloader_config, dataset_root, caption_root, dataset_name, vocab_path, num_workers)\u001b[0m\n\u001b[0;32m    266\u001b[0m \u001b[39mdef\u001b[39;00m \u001b[39mprepare_cub_dataloaders\u001b[39m(dataloader_config,\n\u001b[0;32m    267\u001b[0m                             dataset_root,\n\u001b[0;32m    268\u001b[0m                             caption_root,\n\u001b[0;32m    269\u001b[0m                             dataset_name\u001b[39m=\u001b[39m\u001b[39m'\u001b[39m\u001b[39mcub\u001b[39m\u001b[39m'\u001b[39m,\n\u001b[0;32m    270\u001b[0m                             vocab_path\u001b[39m=\u001b[39m\u001b[39m'\u001b[39m\u001b[39m./vocabs/cub_vocab.pkl\u001b[39m\u001b[39m'\u001b[39m,\n\u001b[0;32m    271\u001b[0m                             num_workers\u001b[39m=\u001b[39m\u001b[39m6\u001b[39m):\n\u001b[0;32m    272\u001b[0m \u001b[39m    \u001b[39m\u001b[39m\"\"\"Prepare CUB Caption train / val / test dataloaders\u001b[39;00m\n\u001b[0;32m    273\u001b[0m \u001b[39m    CUB Caption loader has a fixed batch size\u001b[39;00m\n\u001b[0;32m    274\u001b[0m \u001b[39m    - train loader: # classes (trainval = 100, full = 150)\u001b[39;00m\n\u001b[1;32m   (...)\u001b[0m\n\u001b[0;32m    291\u001b[0m \u001b[39m        vocab (Vocabulary object): vocab object\u001b[39;00m\n\u001b[0;32m    292\u001b[0m \u001b[39m    \"\"\"\u001b[39;00m\n\u001b[1;32m--> 293\u001b[0m     vocab \u001b[39m=\u001b[39m load_vocab(vocab_path)\n\u001b[0;32m    294\u001b[0m     train_classes, val_classes, omit_ids, image_root, caption_root \u001b[39m=\u001b[39m _get_cub_file_paths(\n\u001b[0;32m    295\u001b[0m         dataset_name, dataset_root, caption_root)\n\u001b[0;32m    297\u001b[0m     cutout_prob \u001b[39m=\u001b[39m dataloader_config\u001b[39m.\u001b[39mget(\u001b[39m'\u001b[39m\u001b[39mrandom_erasing_prob\u001b[39m\u001b[39m'\u001b[39m, \u001b[39m0.0\u001b[39m)\n",
      "File \u001b[1;32md:\\ProgramFiles\\python\\multi_modal\\ProbVLM_for_semg\\src\\ds\\_dataloader.py:178\u001b[0m, in \u001b[0;36mload_vocab\u001b[1;34m(vocab_path)\u001b[0m\n\u001b[0;32m    176\u001b[0m \u001b[39mif\u001b[39;00m \u001b[39misinstance\u001b[39m(vocab_path, \u001b[39mstr\u001b[39m):\n\u001b[0;32m    177\u001b[0m     vocab \u001b[39m=\u001b[39m Vocabulary()\n\u001b[1;32m--> 178\u001b[0m     vocab\u001b[39m.\u001b[39;49mload_from_pickle(vocab_path)\n\u001b[0;32m    179\u001b[0m \u001b[39melse\u001b[39;00m:\n\u001b[0;32m    180\u001b[0m     vocab \u001b[39m=\u001b[39m vocab_path\n",
      "File \u001b[1;32md:\\ProgramFiles\\python\\multi_modal\\ProbVLM_for_semg\\src\\ds\\vocab.py:39\u001b[0m, in \u001b[0;36mVocabulary.load_from_pickle\u001b[1;34m(self, data_path)\u001b[0m\n\u001b[0;32m     38\u001b[0m \u001b[39mdef\u001b[39;00m \u001b[39mload_from_pickle\u001b[39m(\u001b[39mself\u001b[39m, data_path):\n\u001b[1;32m---> 39\u001b[0m     \u001b[39mwith\u001b[39;00m \u001b[39mopen\u001b[39;49m(data_path, \u001b[39m'\u001b[39;49m\u001b[39mrb\u001b[39;49m\u001b[39m'\u001b[39;49m) \u001b[39mas\u001b[39;00m fin:\n\u001b[0;32m     40\u001b[0m         data \u001b[39m=\u001b[39m pickle\u001b[39m.\u001b[39mload(fin)\n\u001b[0;32m     41\u001b[0m     \u001b[39mself\u001b[39m\u001b[39m.\u001b[39midx \u001b[39m=\u001b[39m data[\u001b[39m'\u001b[39m\u001b[39midx\u001b[39m\u001b[39m'\u001b[39m]\n",
      "\u001b[1;31mFileNotFoundError\u001b[0m: [Errno 2] No such file or directory: 'ds/vocabs/cub_vocab.pkl'"
     ]
    }
   ],
   "source": [
    "dataset = 'CUB' # coco or flickr\n",
    "data_dir = ospj('/mnt/Datasets/', dataset) # e.g. ospj(expanduser('~'), 'Documents', 'jm', 'data', dataset)\n",
    "dataloader_config = mch({\n",
    "    'batch_size': 64,\n",
    "    'random_erasing_prob': 0.,\n",
    "    'traindata_shuffle': True\n",
    "})\n",
    "loaders,vocab = load_data_loader(dataset, data_dir, dataloader_config)\n",
    "cub_train_loader, cub_valid_loader, cub_test_loader = loaders['train'], loaders['val'], loaders['test']"
   ]
  },
  {
   "cell_type": "code",
   "execution_count": null,
   "id": "7da29997-5483-4fa0-b927-74b38dc36cdf",
   "metadata": {},
   "outputs": [],
   "source": [
    "# clip_net = load_model('cuda')\n",
    "CLIP_Net = load_model(device='cuda', model_path=None)\n",
    "ProbVLM_Net = BayesCap_for_CLIP(\n",
    "    inp_dim=512,\n",
    "    out_dim=512,\n",
    "    hid_dim=256,\n",
    "    num_layers=3,\n",
    "    p_drop=0.05,\n",
    ")"
   ]
  },
  {
   "cell_type": "code",
   "execution_count": null,
   "id": "e1513f40-28d1-4d4d-8d9b-e113c8cd4183",
   "metadata": {},
   "outputs": [],
   "source": [
    "train_ProbVLM(\n",
    "    CLIP_Net,\n",
    "    ProbVLM_Net,\n",
    "    cub_train_loader,\n",
    "    cub_valid_loader,\n",
    "    Cri = TempCombLoss(),\n",
    "    device='cuda',\n",
    "    dtype=torch.cuda.FloatTensor,\n",
    "    init_lr=8e-5,\n",
    "    num_epochs=500,\n",
    "    eval_every=5,\n",
    "    ckpt_path='../ckpt/ProbVLM_Net',\n",
    "    T1=1e0,\n",
    "    T2=1e-4\n",
    ")"
   ]
  }
 ],
 "metadata": {
  "kernelspec": {
   "display_name": "Python 3 (ipykernel)",
   "language": "python",
   "name": "python3"
  },
  "language_info": {
   "codemirror_mode": {
    "name": "ipython",
    "version": 3
   },
   "file_extension": ".py",
   "mimetype": "text/x-python",
   "name": "python",
   "nbconvert_exporter": "python",
   "pygments_lexer": "ipython3",
   "version": "3.9.18"
  }
 },
 "nbformat": 4,
 "nbformat_minor": 5
}
